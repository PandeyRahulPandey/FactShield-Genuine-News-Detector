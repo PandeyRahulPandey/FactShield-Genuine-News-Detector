{
  "nbformat": 4,
  "nbformat_minor": 0,
  "metadata": {
    "colab": {
      "provenance": [],
      "authorship_tag": "ABX9TyNpYNcNCXLCkO8cDAKDoMm7",
      "include_colab_link": true
    },
    "kernelspec": {
      "name": "python3",
      "display_name": "Python 3"
    },
    "language_info": {
      "name": "python"
    }
  },
  "cells": [
    {
      "cell_type": "markdown",
      "metadata": {
        "id": "view-in-github",
        "colab_type": "text"
      },
      "source": [
        "<a href=\"https://colab.research.google.com/github/Narennnnn/Fake-News-Classifier/blob/main/Fake_News_Classification.ipynb\" target=\"_parent\"><img src=\"https://colab.research.google.com/assets/colab-badge.svg\" alt=\"Open In Colab\"/></a>"
      ]
    },
    {
      "cell_type": "code",
      "execution_count": null,
      "metadata": {
        "id": "sm11rxHrAnhm"
      },
      "outputs": [],
      "source": [
        "## Fake News Classifier Using LSTM\n",
        "\n",
        "Dataset: https://www.kaggle.com/datasets/saurabhshahane/fake-news-classification"
      ]
    },
    {
      "cell_type": "code",
      "source": [
        "import numpy as np # linear algebra\n",
        "import pandas as pd # data processing, CSV file I/O (e.g. pd.read_csv)\n",
        "import matplotlib.pyplot as plt\n",
        "import seaborn as sns"
      ],
      "metadata": {
        "id": "_ju2kbi-N-bx"
      },
      "execution_count": 1,
      "outputs": []
    },
    {
      "cell_type": "code",
      "source": [
        "file_path = '/content/sample_data/WELFake_Dataset.csv'\n",
        "df = pd.read_csv(file_path)"
      ],
      "metadata": {
        "id": "fJcZb1wKODsO"
      },
      "execution_count": 2,
      "outputs": []
    },
    {
      "cell_type": "code",
      "source": [
        "print(df.head)"
      ],
      "metadata": {
        "colab": {
          "base_uri": "https://localhost:8080/"
        },
        "id": "wkuMLb8mOIXH",
        "outputId": "14b0462e-3f13-4308-c5b5-6e39475d8af9"
      },
      "execution_count": 3,
      "outputs": [
        {
          "output_type": "stream",
          "name": "stdout",
          "text": [
            "<bound method NDFrame.head of        Unnamed: 0                                              title  \\\n",
            "0               0  LAW ENFORCEMENT ON HIGH ALERT Following Threat...   \n",
            "1               1                                                NaN   \n",
            "2               2  UNBELIEVABLE! OBAMA’S ATTORNEY GENERAL SAYS MO...   \n",
            "3               3  Bobby Jindal, raised Hindu, uses story of Chri...   \n",
            "4               4  SATAN 2: Russia unvelis an image of its terrif...   \n",
            "...           ...                                                ...   \n",
            "72129       72129  Russians steal research on Trump in hack of U....   \n",
            "72130       72130   WATCH: Giuliani Demands That Democrats Apolog...   \n",
            "72131       72131  Migrants Refuse To Leave Train At Refugee Camp...   \n",
            "72132       72132  Trump tussle gives unpopular Mexican leader mu...   \n",
            "72133       72133  Goldman Sachs Endorses Hillary Clinton For Pre...   \n",
            "\n",
            "                                                    text  label  \n",
            "0      No comment is expected from Barack Obama Membe...      1  \n",
            "1         Did they post their votes for Hillary already?      1  \n",
            "2       Now, most of the demonstrators gathered last ...      1  \n",
            "3      A dozen politically active pastors came here f...      0  \n",
            "4      The RS-28 Sarmat missile, dubbed Satan 2, will...      1  \n",
            "...                                                  ...    ...  \n",
            "72129  WASHINGTON (Reuters) - Hackers believed to be ...      0  \n",
            "72130  You know, because in fantasyland Republicans n...      1  \n",
            "72131  Migrants Refuse To Leave Train At Refugee Camp...      0  \n",
            "72132  MEXICO CITY (Reuters) - Donald Trump’s combati...      0  \n",
            "72133  Goldman Sachs Endorses Hillary Clinton For Pre...      1  \n",
            "\n",
            "[72134 rows x 4 columns]>\n"
          ]
        }
      ]
    },
    {
      "cell_type": "code",
      "source": [
        "# drop the NAN values\n",
        "df = df.dropna()\n",
        "df.isnull().sum()"
      ],
      "metadata": {
        "colab": {
          "base_uri": "https://localhost:8080/"
        },
        "id": "jXDo4K_oOKDQ",
        "outputId": "3da1ebd0-a967-4671-f487-ab558b7ee792"
      },
      "execution_count": 4,
      "outputs": [
        {
          "output_type": "execute_result",
          "data": {
            "text/plain": [
              "Unnamed: 0    0\n",
              "title         0\n",
              "text          0\n",
              "label         0\n",
              "dtype: int64"
            ]
          },
          "metadata": {},
          "execution_count": 4
        }
      ]
    },
    {
      "cell_type": "code",
      "source": [
        "df.drop(columns=['Unnamed: 0'],inplace=True)"
      ],
      "metadata": {
        "id": "J8bLLr_HOPbR"
      },
      "execution_count": 5,
      "outputs": []
    },
    {
      "cell_type": "code",
      "source": [
        "print(df.head)"
      ],
      "metadata": {
        "colab": {
          "base_uri": "https://localhost:8080/"
        },
        "id": "Fjzy55wdOR5o",
        "outputId": "a3a29ce4-13e2-4a2e-ed9d-5558d27f2924"
      },
      "execution_count": 6,
      "outputs": [
        {
          "output_type": "stream",
          "name": "stdout",
          "text": [
            "<bound method NDFrame.head of                                                    title  \\\n",
            "0      LAW ENFORCEMENT ON HIGH ALERT Following Threat...   \n",
            "2      UNBELIEVABLE! OBAMA’S ATTORNEY GENERAL SAYS MO...   \n",
            "3      Bobby Jindal, raised Hindu, uses story of Chri...   \n",
            "4      SATAN 2: Russia unvelis an image of its terrif...   \n",
            "5      About Time! Christian Group Sues Amazon and SP...   \n",
            "...                                                  ...   \n",
            "72129  Russians steal research on Trump in hack of U....   \n",
            "72130   WATCH: Giuliani Demands That Democrats Apolog...   \n",
            "72131  Migrants Refuse To Leave Train At Refugee Camp...   \n",
            "72132  Trump tussle gives unpopular Mexican leader mu...   \n",
            "72133  Goldman Sachs Endorses Hillary Clinton For Pre...   \n",
            "\n",
            "                                                    text  label  \n",
            "0      No comment is expected from Barack Obama Membe...      1  \n",
            "2       Now, most of the demonstrators gathered last ...      1  \n",
            "3      A dozen politically active pastors came here f...      0  \n",
            "4      The RS-28 Sarmat missile, dubbed Satan 2, will...      1  \n",
            "5      All we can say on this one is it s about time ...      1  \n",
            "...                                                  ...    ...  \n",
            "72129  WASHINGTON (Reuters) - Hackers believed to be ...      0  \n",
            "72130  You know, because in fantasyland Republicans n...      1  \n",
            "72131  Migrants Refuse To Leave Train At Refugee Camp...      0  \n",
            "72132  MEXICO CITY (Reuters) - Donald Trump’s combati...      0  \n",
            "72133  Goldman Sachs Endorses Hillary Clinton For Pre...      1  \n",
            "\n",
            "[71537 rows x 3 columns]>\n"
          ]
        }
      ]
    },
    {
      "cell_type": "code",
      "source": [
        "# 0 - Fake, 1 - Real\n",
        "df['label'].value_counts().plot.pie(autopct='%.2f')"
      ],
      "metadata": {
        "colab": {
          "base_uri": "https://localhost:8080/",
          "height": 424
        },
        "id": "BQfFrNB7OUyF",
        "outputId": "a0e2fbf8-497c-4cf2-9533-08fba5a7cf4c"
      },
      "execution_count": 7,
      "outputs": [
        {
          "output_type": "execute_result",
          "data": {
            "text/plain": [
              "<Axes: ylabel='count'>"
            ]
          },
          "metadata": {},
          "execution_count": 7
        },
        {
          "output_type": "display_data",
          "data": {
            "text/plain": [
              "<Figure size 640x480 with 1 Axes>"
            ],
            "image/png": "[encoded data removed]"
          },
          "metadata": {}
        }
      ]
    },
    {
      "cell_type": "code",
      "source": [
        "X = df.drop(columns=['label'])\n",
        "# Get the independet features"
      ],
      "metadata": {
        "id": "XfU0mxUlOZ00"
      },
      "execution_count": 8,
      "outputs": []
    },
    {
      "cell_type": "code",
      "source": [
        "y = df['label']\n",
        "# Get the dependent features"
      ],
      "metadata": {
        "id": "57TXiIaOOqvr"
      },
      "execution_count": 9,
      "outputs": []
    },
    {
      "cell_type": "code",
      "source": [
        "X.head()"
      ],
      "metadata": {
        "colab": {
          "base_uri": "https://localhost:8080/",
          "height": 206
        },
        "id": "eq-0b8PFOuoG",
        "outputId": "5069774b-4d2d-44e4-cd12-db65bc5933f5"
      },
      "execution_count": 10,
      "outputs": [
        {
          "output_type": "execute_result",
          "data": {
            "text/plain": [
              "                                               title  \\\n",
              "0  LAW ENFORCEMENT ON HIGH ALERT Following Threat...   \n",
              "2  UNBELIEVABLE! OBAMA’S ATTORNEY GENERAL SAYS MO...   \n",
              "3  Bobby Jindal, raised Hindu, uses story of Chri...   \n",
              "4  SATAN 2: Russia unvelis an image of its terrif...   \n",
              "5  About Time! Christian Group Sues Amazon and SP...   \n",
              "\n",
              "                                                text  \n",
              "0  No comment is expected from Barack Obama Membe...  \n",
              "2   Now, most of the demonstrators gathered last ...  \n",
              "3  A dozen politically active pastors came here f...  \n",
              "4  The RS-28 Sarmat missile, dubbed Satan 2, will...  \n",
              "5  All we can say on this one is it s about time ...  "
            ],
            "text/html": [
              "\n",
              "  <div id=\"df-4ed4041d-192a-4eaa-bd88-127f29f6fca7\" class=\"colab-df-container\">\n",
              "    <div>\n",
              "<style scoped>\n",
              "    .dataframe tbody tr th:only-of-type {\n",
              "        vertical-align: middle;\n",
              "    }\n",
              "\n",
              "    .dataframe tbody tr th {\n",
              "        vertical-align: top;\n",
              "    }\n",
              "\n",
              "    .dataframe thead th {\n",
              "        text-align: right;\n",
              "    }\n",
              "</style>\n",
              "<table border=\"1\" class=\"dataframe\">\n",
              "  <thead>\n",
              "    <tr style=\"text-align: right;\">\n",
              "      <th></th>\n",
              "      <th>title</th>\n",
              "      <th>text</th>\n",
              "    </tr>\n",
              "  </thead>\n",
              "  <tbody>\n",
              "    <tr>\n",
              "      <th>0</th>\n",
              "      <td>LAW ENFORCEMENT ON HIGH ALERT Following Threat...</td>\n",
              "      <td>No comment is expected from Barack Obama Membe...</td>\n",
              "    </tr>\n",
              "    <tr>\n",
              "      <th>2</th>\n",
              "      <td>UNBELIEVABLE! OBAMA’S ATTORNEY GENERAL SAYS MO...</td>\n",
              "      <td>Now, most of the demonstrators gathered last ...</td>\n",
              "    </tr>\n",
              "    <tr>\n",
              "      <th>3</th>\n",
              "      <td>Bobby Jindal, raised Hindu, uses story of Chri...</td>\n",
              "      <td>A dozen politically active pastors came here f...</td>\n",
              "    </tr>\n",
              "    <tr>\n",
              "      <th>4</th>\n",
              "      <td>SATAN 2: Russia unvelis an image of its terrif...</td>\n",
              "      <td>The RS-28 Sarmat missile, dubbed Satan 2, will...</td>\n",
              "    </tr>\n",
              "    <tr>\n",
              "      <th>5</th>\n",
              "      <td>About Time! Christian Group Sues Amazon and SP...</td>\n",
              "      <td>All we can say on this one is it s about time ...</td>\n",
              "    </tr>\n",
              "  </tbody>\n",
              "</table>\n",
              "</div>\n",
              "    <div class=\"colab-df-buttons\">\n",
              "\n",
              "  <div class=\"colab-df-container\">\n",
              "    <button class=\"colab-df-convert\" onclick=\"convertToInteractive('df-4ed4041d-192a-4eaa-bd88-127f29f6fca7')\"\n",
              "            title=\"Convert this dataframe to an interactive table.\"\n",
              "            style=\"display:none;\">\n",
              "\n",
              "  <svg xmlns=\"http://www.w3.org/2000/svg\" height=\"24px\" viewBox=\"0 -960 960 960\">\n",
              "    <path d=\"M120-120v-720h720v720H120Zm60-500h600v-160H180v160Zm220 220h160v-160H400v160Zm0 220h160v-160H400v160ZM180-400h160v-160H180v160Zm440 0h160v-160H620v160ZM180-180h160v-160H180v160Zm440 0h160v-160H620v160Z\"/>\n",
              "  </svg>\n",
              "    </button>\n",
              "\n",
              "  <style>\n",
              "    .colab-df-container {\n",
              "      display:flex;\n",
              "      gap: 12px;\n",
              "    }\n",
              "\n",
              "    .colab-df-convert {\n",
              "      background-color: #E8F0FE;\n",
              "      border: none;\n",
              "      border-radius: 50%;\n",
              "      cursor: pointer;\n",
              "      display: none;\n",
              "      fill: #1967D2;\n",
              "      height: 32px;\n",
              "      padding: 0 0 0 0;\n",
              "      width: 32px;\n",
              "    }\n",
              "\n",
              "    .colab-df-convert:hover {\n",
              "      background-color: #E2EBFA;\n",
              "      box-shadow: 0px 1px 2px rgba(60, 64, 67, 0.3), 0px 1px 3px 1px rgba(60, 64, 67, 0.15);\n",
              "      fill: #174EA6;\n",
              "    }\n",
              "\n",
              "    .colab-df-buttons div {\n",
              "      margin-bottom: 4px;\n",
              "    }\n",
              "\n",
              "    [theme=dark] .colab-df-convert {\n",
              "      background-color: #3B4455;\n",
              "      fill: #D2E3FC;\n",
              "    }\n",
              "\n",
              "    [theme=dark] .colab-df-convert:hover {\n",
              "      background-color: #434B5C;\n",
              "      box-shadow: 0px 1px 3px 1px rgba(0, 0, 0, 0.15);\n",
              "      filter: drop-shadow(0px 1px 2px rgba(0, 0, 0, 0.3));\n",
              "      fill: #FFFFFF;\n",
              "    }\n",
              "  </style>\n",
              "\n",
              "    <script>\n",
              "      const buttonEl =\n",
              "        document.querySelector('#df-4ed4041d-192a-4eaa-bd88-127f29f6fca7 button.colab-df-convert');\n",
              "      buttonEl.style.display =\n",
              "        google.colab.kernel.accessAllowed ? 'block' : 'none';\n",
              "\n",
              "      async function convertToInteractive(key) {\n",
              "        const element = document.querySelector('#df-4ed4041d-192a-4eaa-bd88-127f29f6fca7');\n",
              "        const dataTable =\n",
              "          await google.colab.kernel.invokeFunction('convertToInteractive',\n",
              "                                                    [key], {});\n",
              "        if (!dataTable) return;\n",
              "\n",
              "        const docLinkHtml = 'Like what you see? Visit the ' +\n",
              "          '<a target=\"_blank\" href=https://colab.research.google.com/notebooks/data_table.ipynb>data table notebook</a>'\n",
              "          + ' to learn more about interactive tables.';\n",
              "        element.innerHTML = '';\n",
              "        dataTable['output_type'] = 'display_data';\n",
              "        await google.colab.output.renderOutput(dataTable, element);\n",
              "        const docLink = document.createElement('div');\n",
              "        docLink.innerHTML = docLinkHtml;\n",
              "        element.appendChild(docLink);\n",
              "      }\n",
              "    </script>\n",
              "  </div>\n",
              "\n",
              "\n",
              "<div id=\"df-2e873b32-62fb-4eae-862a-bdbf059f3348\">\n",
              "  <button class=\"colab-df-quickchart\" onclick=\"quickchart('df-2e873b32-62fb-4eae-862a-bdbf059f3348')\"\n",
              "            title=\"Suggest charts\"\n",
              "            style=\"display:none;\">\n",
              "\n",
              "<svg xmlns=\"http://www.w3.org/2000/svg\" height=\"24px\"viewBox=\"0 0 24 24\"\n",
              "     width=\"24px\">\n",
              "    <g>\n",
              "        <path d=\"M19 3H5c-1.1 0-2 .9-2 2v14c0 1.1.9 2 2 2h14c1.1 0 2-.9 2-2V5c0-1.1-.9-2-2-2zM9 17H7v-7h2v7zm4 0h-2V7h2v10zm4 0h-2v-4h2v4z\"/>\n",
              "    </g>\n",
              "</svg>\n",
              "  </button>\n",
              "\n",
              "<style>\n",
              "  .colab-df-quickchart {\n",
              "      --bg-color: #E8F0FE;\n",
              "      --fill-color: #1967D2;\n",
              "      --hover-bg-color: #E2EBFA;\n",
              "      --hover-fill-color: #174EA6;\n",
              "      --disabled-fill-color: #AAA;\n",
              "      --disabled-bg-color: #DDD;\n",
              "  }\n",
              "\n",
              "  [theme=dark] .colab-df-quickchart {\n",
              "      --bg-color: #3B4455;\n",
              "      --fill-color: #D2E3FC;\n",
              "      --hover-bg-color: #434B5C;\n",
              "      --hover-fill-color: #FFFFFF;\n",
              "      --disabled-bg-color: #3B4455;\n",
              "      --disabled-fill-color: #666;\n",
              "  }\n",
              "\n",
              "  .colab-df-quickchart {\n",
              "    background-color: var(--bg-color);\n",
              "    border: none;\n",
              "    border-radius: 50%;\n",
              "    cursor: pointer;\n",
              "    display: none;\n",
              "    fill: var(--fill-color);\n",
              "    height: 32px;\n",
              "    padding: 0;\n",
              "    width: 32px;\n",
              "  }\n",
              "\n",
              "  .colab-df-quickchart:hover {\n",
              "    background-color: var(--hover-bg-color);\n",
              "    box-shadow: 0 1px 2px rgba(60, 64, 67, 0.3), 0 1px 3px 1px rgba(60, 64, 67, 0.15);\n",
              "    fill: var(--button-hover-fill-color);\n",
              "  }\n",
              "\n",
              "  .colab-df-quickchart-complete:disabled,\n",
              "  .colab-df-quickchart-complete:disabled:hover {\n",
              "    background-color: var(--disabled-bg-color);\n",
              "    fill: var(--disabled-fill-color);\n",
              "    box-shadow: none;\n",
              "  }\n",
              "\n",
              "  .colab-df-spinner {\n",
              "    border: 2px solid var(--fill-color);\n",
              "    border-color: transparent;\n",
              "    border-bottom-color: var(--fill-color);\n",
              "    animation:\n",
              "      spin 1s steps(1) infinite;\n",
              "  }\n",
              "\n",
              "  @keyframes spin {\n",
              "    0% {\n",
              "      border-color: transparent;\n",
              "      border-bottom-color: var(--fill-color);\n",
              "      border-left-color: var(--fill-color);\n",
              "    }\n",
              "    20% {\n",
              "      border-color: transparent;\n",
              "      border-left-color: var(--fill-color);\n",
              "      border-top-color: var(--fill-color);\n",
              "    }\n",
              "    30% {\n",
              "      border-color: transparent;\n",
              "      border-left-color: var(--fill-color);\n",
              "      border-top-color: var(--fill-color);\n",
              "      border-right-color: var(--fill-color);\n",
              "    }\n",
              "    40% {\n",
              "      border-color: transparent;\n",
              "      border-right-color: var(--fill-color);\n",
              "      border-top-color: var(--fill-color);\n",
              "    }\n",
              "    60% {\n",
              "      border-color: transparent;\n",
              "      border-right-color: var(--fill-color);\n",
              "    }\n",
              "    80% {\n",
              "      border-color: transparent;\n",
              "      border-right-color: var(--fill-color);\n",
              "      border-bottom-color: var(--fill-color);\n",
              "    }\n",
              "    90% {\n",
              "      border-color: transparent;\n",
              "      border-bottom-color: var(--fill-color);\n",
              "    }\n",
              "  }\n",
              "</style>\n",
              "\n",
              "  <script>\n",
              "    async function quickchart(key) {\n",
              "      const quickchartButtonEl =\n",
              "        document.querySelector('#' + key + ' button');\n",
              "      quickchartButtonEl.disabled = true;  // To prevent multiple clicks.\n",
              "      quickchartButtonEl.classList.add('colab-df-spinner');\n",
              "      try {\n",
              "        const charts = await google.colab.kernel.invokeFunction(\n",
              "            'suggestCharts', [key], {});\n",
              "      } catch (error) {\n",
              "        console.error('Error during call to suggestCharts:', error);\n",
              "      }\n",
              "      quickchartButtonEl.classList.remove('colab-df-spinner');\n",
              "      quickchartButtonEl.classList.add('colab-df-quickchart-complete');\n",
              "    }\n",
              "    (() => {\n",
              "      let quickchartButtonEl =\n",
              "        document.querySelector('#df-2e873b32-62fb-4eae-862a-bdbf059f3348 button');\n",
              "      quickchartButtonEl.style.display =\n",
              "        google.colab.kernel.accessAllowed ? 'block' : 'none';\n",
              "    })();\n",
              "  </script>\n",
              "</div>\n",
              "\n",
              "    </div>\n",
              "  </div>\n"
            ],
            "application/vnd.google.colaboratory.intrinsic+json": {
              "type": "dataframe",
              "variable_name": "X",
              "summary": "{\n  \"name\": \"X\",\n  \"rows\": 71537,\n  \"fields\": [\n    {\n      \"column\": \"title\",\n      \"properties\": {\n        \"dtype\": \"string\",\n        \"num_unique_values\": 62308,\n        \"samples\": [\n          \"About 146,000 Rohingya have fled Myanmar violence to Bangladesh\",\n          \"Franklin Graham: The media didn\\u2019t understand the \\u2018God-factor\\u2019 in Trump\\u2019s win\",\n          \"T\\u00fcrkei: Kritischer Journalist interviewt Oppositionspolitiker in gemeinsamer Gef\\u00e4ngniszelle\"\n        ],\n        \"semantic_type\": \"\",\n        \"description\": \"\"\n      }\n    },\n    {\n      \"column\": \"text\",\n      \"properties\": {\n        \"dtype\": \"string\",\n        \"num_unique_values\": 62200,\n        \"samples\": [\n          \"Analysis from the Brookings Institution says that 15 million people could lose coverage under Speaker Paul Ryan\\u2019s American Health Care Act. [The Congressional Budget Office (CBO) has yet to score the Ryan plan, although the Brookings Institution\\u2019s report does not bode well for the House leadership\\u2019s bill.  The Ryan plan reports, \\u201cWe conclude that CBO\\u2019s analysis will likely estimate that at least 15 million people will lose coverage under the American Health Care Act (AHCA) by the end of the   scoring window. Estimates could be higher, but it\\u2019s [sic] is unlikely they will be significantly lower. \\u201d The Kaiser Family Foundation states that the Ryan plan\\u2019s tax credits aid wealthier Americans more than   individuals. Older Americans would face comparatively less aid through tax credits than younger counterparts. American Medical Association CEO James Madara also criticized the Republican leadership\\u2019s tax credits, saying, \\u201cWe believe credits inversely related to income, rather than age as proposed in the committee\\u2019s legislation, not only result in greater numbers of people insured but are a more efficient use of   resources. \\u201d Ways and Means Chairman Kevin Brady ( ) has maintained that tax credits help everyone get covered. He said, \\u201cIt covers more people, because it applies to those who don\\u2019t have a tax liability, and it\\u2019s advanceable, so it\\u2019s available today. \\u201d Avik Roy, a health expert at Forbes, argued that tax credits in the Ryan plan will \\u201cprice many poor and vulnerable people out of the health insurance market. \\u201d Michael Cannon, the Cato Institute\\u2019s director of health policy studies, believes that the GOP\\u2019s Obamacare replacement bill will force the poor to lose their coverage. He lamented, \\u201cIf the tax credits (read: subsidies) for   Americans are less than under Obamacare, many more   patients will lose coverage. Premiums will continue to rise. Republicans will take the blame for all of it, because they will have failed to repeal Obamacare, or learn its lessons, when they had the chance. \\u201d\",\n          \"At least six members of the Super   New England Patriots have said they will not visit the White House for the traditional meeting that championship teams have with the president. Running back LeGarrette Blount, defensive end Chris Long and defensive tackle Alan Branch on Thursday became the latest to announce that they would skip the visit. Long posted on Twitter that he \\u201cplanned on skipping\\u201d in response to a column in The Daily News that urged him to skip. Blount revealed his decision on Fox Sports in a radio interview on \\u201cThe Rich Eisen Show\\u201d later in the afternoon. \\u201cI just don\\u2019t feel welcome in that house,\\u201d Blount said. \\u201cI\\u2019m going to just leave it at that. \\u201d Branch told Sirius XM Radio that he planned to spend time with family. A day earlier, the Pro Bowl linebacker Dont\\u2019a Hightower bowed out when he told ESPN, \\u201cBeen there, done that,\\u201d having visited with a championship Alabama team. Tight end Martellus Bennett told reporters after the Super Bowl that he would not go: \\u201cIt is what it is,\\u201d he said. \\u201cPeople know how I feel about it. Just follow me on Twitter. \\u201d The outspoken Bennett had joked that he might move to outer space after Donald J. Trump was elected. The Pro Bowl safety Devin McCourty, a team captain,  told Time magazine: \\u201cBasic reason for me is I don\\u2019t feel accepted in the White House. With the president having so many strong opinions and prejudices, I believe certain people might feel accepted there while others won\\u2019t. \\u201d Bennett and McCourty were in the news for their activism last fall, when they raised their fists in protest during the national anthem for one game. At the time, athletes in various sports were protesting racial oppression in the country. The number of Patriots absences may well increase. Running back James White said he had not made up his mind whether to go. \\u201cI\\u2019ll wait till the time comes and decide then,\\u201d he said. No date has been scheduled for this year\\u2019s ceremony honoring the Patriots. The ceremony for last year\\u2019s champions, the Broncos, took place in June. Perhaps no other team has as close an association with Trump as the Patriots. Just before the election, Trump claimed that he had the support of Patriots quarterback Tom Brady and Coach Bill Belichick. Brady, who displayed a \\u201cMake America Great Again\\u201d cap in his locker during the campaign, never explicitly endorsed Trump, but he spoke favorably of him and they have socialized. Trump also cited a supportive letter he had received from Belichick, and several news media accounts confirmed the letter was authentic. The team\\u2019s owner, Robert K. Kraft, has said he has considered Trump a longtime friend. Brady did not attend his team\\u2019s visit with former President Barack Obama at the White House, in 2015, citing family issues. But some athletes who have skipped the trip over the years have explicitly given politics as a reason. Bruins goalie Tim Thomas declined to visit the Obama White House with his teammates in January 2012, saying in a statement: \\u201cI believe the federal government has grown out of control, threatening the rights, liberties and property of the people. \\u201cBecause I believe this, today I exercised my right as a free citizen, and did not visit the White House. \\u201d Baltimore Ravens center Matt Birk cited his opposition to abortion as the reason for skipping a 2013 visit. A number of other athletes have skipped the ceremony while citing scheduling conflicts or family commitments. Presidents for years have invited sports figures to the White House, but the tradition of honoring championships teams there solidified under Ronald Reagan. Major professional champions and many college champions stop by for a presentation and a photo opportunity. Six Patriots, so far, won\\u2019t make the trip this year.\",\n          \"SAN FRANCISCO  \\u2014   By mastering some tough computer chip technology and then pulling off an audacious business strategy based on selling its smartphone knowledge, Qualcomm has made billions of dollars and seized influence in the tech industry. Some days that is a real drag. On Friday, Apple, its longtime partner, sued Qualcomm over what it said was $1 billion in withheld rebates. In the lawsuit, filed in Federal District Court for the Southern District of California, in San Diego, Apple said the money had been promised in conjunction with an agreement not to buy chips from other suppliers or to divulge Qualcomm\\u2019s intellectual property licensing practices. The suit seeks the rebates, among other things. Apple sued three days after the  Federal Trade Commission accused Qualcomm of using anticompetitive practices to guarantee its high royalty payments for advanced wireless technology. The commission cited Qualcomm\\u2019s deals with Taiwanese companies that manufacture Apple iPhones over semiconductors it sells for the iPhone. In its complaint, the commission described Qualcomm as \\u201cthe world\\u2019s dominant supplier\\u201d of semiconductors that manage smartphone communications. The commission said Qualcomm had obtained \\u201celevated royalties\\u201d for its patented intellectual property on wireless communications. Other smartphone chip makers have to pay Qualcomm for that intellectual property, too. The commission and Apple complaints follow several other problems, including a $975 million fine by Chinese regulators in 2015 and activist shareholder complaints later that year that forced layoffs at Qualcomm. Last month, Qualcomm was fined $850 million in South Korea for unfair patent licensing. When Apple provided information to South Korean regulators in that case, and sought competing chips from Intel, Qualcomm refused to pay Apple its promised money, Apple said. Qualcomm has vowed to fight the South Korean charge and the F. T. C. suit. \\u201cApple has intentionally mischaracterized our agreements and negotiations,\\u201d Qualcomm said in a statement, adding that it would fight that lawsuit, too. Few expect Qualcomm to back down. It was shaped by its founders to be brainy, combative and profitable. \\u201cThey are seasoned, and equipped to fight,\\u201d said Mark Hung, an analyst at Gartner. \\u201cBut when such a big company is so reliant on the way it sells its intellectual property, and under the microscope in various geographies, it\\u2019s tough. \\u201d Qualcomm, which is based in San Diego, far from Silicon Valley, was founded in 1985 by seven people, including Irwin Jacobs and Andrew Viterbi. The two were   electrical engineering professors who had formed a military satellite communications company. Qualcomm\\u2019s engineers work at a   campus between a park and the University of California, San Diego. They have earned thousands of patents, including for the airplane mode on smartphones and the way apps are downloaded from stores. Companies like Samsung and Apple need Qualcomm for the technology that enables things like   wireless video for millions of people at once. Its major technology is spread spectrum, which harnesses lots of computation and clever radio engineering for use in the various functions of smartphones. Qualcomm\\u2019s radio technology is called CDMA, for code division multiple access, a way voice calls work more efficiently over cellphone networks. And the company\\u2019s influence grew over the last several years with the advent of   or 3G, phones as people started downloading lots of mobile data as well as making calls. At the time, many thought Qualcomm\\u2019s success would be limited to that transition. Instead, Qualcomm innovated in 4G wireless for the new smartphones from Samsung and Apple that toppled Nokia and Motorola. In its last fiscal year, Qualcomm had revenue of $23. 6 billion and a profit of $5. 7 billion. Qualcomm\\u2019s ventures in phones and network gear helped promote CDMA but did not make much money because older companies did not need CDMA until the success of wireless began to tax the capacity of their networks. Qualcomm turned to Asian companies that wanted to get into wireless. \\u201cYou\\u2019d never have seen the Koreans or the Chinese in wireless if not for Qualcomm and CDMA,\\u201d said Clint McClellan, a   employee of Qualcomm who now runs a wireless health business. \\u201cWe enabled those markets. \\u201d South Korea, in particular, made CDMA an industrial policy, which carried Qualcomm for years. More recently, China accounted for half of Qualcomm\\u2019s revenue. Apple\\u2019s Taiwanese manufacturers, which pay Qualcomm royalties for iPhones, are another big profit center. Qualcomm would not say what it charges for its intellectual property, but analysts figure the fee usually amounts to 5 percent of the selling price of a phone  \\u2014   at least it did, until the 2015 Chinese fine, which included an agreement that Chinese manufacturers pay only about half the old Qualcomm royalty. That, and problems collecting Chinese royalties even before the agreement, hurt Qualcomm\\u2019s share price. In 2015, Jana Partners, an activist hedge fund, stepped in and pressed for a breakup of the company into separate intellectual property and chip businesses. That did not happen, but Qualcomm cut about 15 percent of its staff, cut executive pay and gave Jana three board seats. The stock has recovered to about where it was just before the fine, but not to the heights it reached before the problems. By helping to create today\\u2019s smartphone giants, Qualcomm may have engineered its current woes. Qualcomm executives say they see a connection between the China discounts, which Qualcomm had hoped would be limited to that country, and the latest regulatory attacks. \\u201cWe believe Samsung had a major role to play in the Korean decision,\\u201d said Don Rosenberg, a lawyer for Qualcomm. The regulators, he said, \\u201cwere prodded and misled by commercial interests. \\u201d In an email,   Jee, a spokeswoman for Samsung, said it \\u201cwas one of many multinational corporations\\u201d that responded to questions from South Korean regulators. Qualcomm\\u2019s lawyer figures the Korean case may take years to move through the courts. And recent events, including the impeachment of South Korea\\u2019s president and a  bribery scandal at Samsung, could complicate, or eliminate, Qualcomm\\u2019s regulatory issues there. Additionally, the F. T. C. has just three of its normal five commissioners. One of those, Maureen Ohlhausen, a Republican, voted against the suit. She may be named chairwoman when the current chairwoman, Edith Ramirez, a Democrat, steps down on Feb. 10. Neither the F. T. C. nor Apple would comment on the United States case against Qualcomm. \\u201cIt\\u2019s disappointing when our partners want to pay less after we\\u2019ve contributed to their success,\\u201d said Derek Aberle, Qualcomm\\u2019s president. Now it must get out ahead of other technology inventors in 5G, possibly while paying billions in fines and dealing with a painful restructuring and fraying relationships with its biggest customers. \\u201cWe\\u2019re not sitting still\\u201d while the problems are sorted, Mr. Aberle said. \\u201cYou have to invest, and invent cool stuff that will change the way people live their lives. \\u201d In other words, create unique technology so people will keep paying for Qualcomm\\u2019s expensive intellectual property.\"\n        ],\n        \"semantic_type\": \"\",\n        \"description\": \"\"\n      }\n    }\n  ]\n}"
            }
          },
          "metadata": {},
          "execution_count": 10
        }
      ]
    },
    {
      "cell_type": "code",
      "source": [
        "y.head()"
      ],
      "metadata": {
        "colab": {
          "base_uri": "https://localhost:8080/"
        },
        "id": "VAUou6oxOypD",
        "outputId": "a36aa110-717f-45ee-c297-4e063b1af3a4"
      },
      "execution_count": 11,
      "outputs": [
        {
          "output_type": "execute_result",
          "data": {
            "text/plain": [
              "0    1\n",
              "2    1\n",
              "3    0\n",
              "4    1\n",
              "5    1\n",
              "Name: label, dtype: int64"
            ]
          },
          "metadata": {},
          "execution_count": 11
        }
      ]
    },
    {
      "cell_type": "code",
      "source": [
        "print(X.shape)\n",
        "print(y.shape)"
      ],
      "metadata": {
        "colab": {
          "base_uri": "https://localhost:8080/"
        },
        "id": "Ix0aPGckO2GO",
        "outputId": "54fd66e2-56e3-4094-a217-074b5ffbd349"
      },
      "execution_count": 12,
      "outputs": [
        {
          "output_type": "stream",
          "name": "stdout",
          "text": [
            "(71537, 2)\n",
            "(71537,)\n"
          ]
        }
      ]
    },
    {
      "cell_type": "code",
      "source": [
        "import tensorflow as tf\n",
        "tf.__version__"
      ],
      "metadata": {
        "colab": {
          "base_uri": "https://localhost:8080/",
          "height": 36
        },
        "id": "J6V-ZDoyO9Lr",
        "outputId": "d30c3a6c-cf63-4a6f-ad2f-a39dc76d4c01"
      },
      "execution_count": 13,
      "outputs": [
        {
          "output_type": "execute_result",
          "data": {
            "text/plain": [
              "'2.15.0'"
            ],
            "application/vnd.google.colaboratory.intrinsic+json": {
              "type": "string"
            }
          },
          "metadata": {},
          "execution_count": 13
        }
      ]
    },
    {
      "cell_type": "code",
      "source": [
        "# Vocab_size = Unique words in our Corpus (entire document)\n",
        "vocab_size = 10000"
      ],
      "metadata": {
        "id": "yHAzc617PFCm"
      },
      "execution_count": 14,
      "outputs": []
    },
    {
      "cell_type": "code",
      "source": [
        "messages = X.copy()\n",
        "\n",
        "# We have to reset index as we have used dropna() earlier, otherwise it will throw an error\n",
        "messages.reset_index(inplace=True)"
      ],
      "metadata": {
        "id": "pCIIdw3VPHqM"
      },
      "execution_count": 15,
      "outputs": []
    },
    {
      "cell_type": "code",
      "source": [
        "messages['title'][2]"
      ],
      "metadata": {
        "colab": {
          "base_uri": "https://localhost:8080/",
          "height": 36
        },
        "id": "mmwYXw5ZPJ-0",
        "outputId": "dfb3c8ca-2dd0-4de2-d82d-e24029d19741"
      },
      "execution_count": 16,
      "outputs": [
        {
          "output_type": "execute_result",
          "data": {
            "text/plain": [
              "'Bobby Jindal, raised Hindu, uses story of Christian conversion to woo evangelicals for potential 2016 bid'"
            ],
            "application/vnd.google.colaboratory.intrinsic+json": {
              "type": "string"
            }
          },
          "metadata": {},
          "execution_count": 16
        }
      ]
    },
    {
      "cell_type": "code",
      "source": [
        "import nltk\n",
        "import re\n",
        "from nltk.corpus import stopwords\n",
        "nltk.download('stopwords')"
      ],
      "metadata": {
        "colab": {
          "base_uri": "https://localhost:8080/"
        },
        "id": "dHBf7Dy_PMpP",
        "outputId": "295a288a-5969-456c-a3d4-377b02d89e36"
      },
      "execution_count": 17,
      "outputs": [
        {
          "output_type": "stream",
          "name": "stderr",
          "text": [
            "[nltk_data] Downloading package stopwords to /root/nltk_data...\n",
            "[nltk_data]   Unzipping corpora/stopwords.zip.\n"
          ]
        },
        {
          "output_type": "execute_result",
          "data": {
            "text/plain": [
              "True"
            ]
          },
          "metadata": {},
          "execution_count": 17
        }
      ]
    },
    {
      "cell_type": "code",
      "source": [
        "### Dataset Preprocessing (Stemming, Lower casing text, Removing Stop Words)\n",
        "\n",
        "# We will perform classification of News on the basis of the \"TITLE\" of news\n",
        "\n",
        "from nltk.stem.porter import PorterStemmer\n",
        "ps = PorterStemmer()\n",
        "corpus = []\n",
        "for i in range(0, len(messages)):\n",
        "\n",
        "    # We are substituting everything apart from (a-z, A-Z) with a \" \" (space)\n",
        "    review = re.sub('[^a-zA-Z]', ' ', messages['title'][i])\n",
        "\n",
        "    review = review.lower()\n",
        "    review = review.split()\n",
        "\n",
        "    # if a word is not in Stop Words,then only we will add it to review (list/array)\n",
        "    review = [ps.stem(word) for word in review if not word in stopwords.words('english')]\n",
        "    review = ' '.join(review)\n",
        "    corpus.append(review)"
      ],
      "metadata": {
        "id": "IfmpbgMfPSJ7"
      },
      "execution_count": 18,
      "outputs": []
    },
    {
      "cell_type": "code",
      "source": [
        "corpus[:30]"
      ],
      "metadata": {
        "colab": {
          "base_uri": "https://localhost:8080/"
        },
        "id": "VlJ3j_AQP6rC",
        "outputId": "35d7bbfa-6306-4a1a-8685-6ad9debdc76d"
      },
      "execution_count": 19,
      "outputs": [
        {
          "output_type": "execute_result",
          "data": {
            "text/plain": [
              "['law enforc high alert follow threat cop white blacklivesmatt fyf terrorist video',\n",
              " 'unbeliev obama attorney gener say charlott rioter peac protest home state north carolina video',\n",
              " 'bobbi jindal rais hindu use stori christian convers woo evangel potenti bid',\n",
              " 'satan russia unv imag terrifi new supernuk western world take notic',\n",
              " 'time christian group sue amazon splc design hate group',\n",
              " 'dr ben carson target ir never audit spoke nation prayer breakfast',\n",
              " 'hous intel chair trump russia fake stori evid anyth video',\n",
              " 'sport bar owner ban nfl game show true american sport like speak rural america video',\n",
              " 'latest pipelin leak underscor danger dakota access pipelin',\n",
              " 'gop senat smack punchabl alt right nazi internet',\n",
              " 'may brexit offer would hurt cost eu citizen eu parliament',\n",
              " 'schumer call trump appoint offici overse puerto rico relief',\n",
              " 'watch hilari ad call question health age clinton crime famili boss',\n",
              " 'chang expect espn polit agenda despit huge subscrib declin breitbart',\n",
              " 'billionair odebrecht brazil scandal releas hous arrest',\n",
              " 'british woman lose virgin asylum seek rapist way church',\n",
              " 'u n seek humanitarian paus sanaa street battleground',\n",
              " 'major liber rag reluctantli publish articl presid trump outstand accomplish explain success everyon laugh',\n",
              " 'second judg say clinton email setup may bad faith',\n",
              " 'america give grand piano hors',\n",
              " 'hillari crime famili end day u',\n",
              " 'sean spicer baffl report claim trump respons hire flynn video',\n",
              " 'unholi allianc hillari clinton saudi sponsor support terror islamist extrem',\n",
              " 'even trump best friend joe scarborough handl disqualifi kkk support video',\n",
              " 'boom danish govern consid seiz migrant valuabl pay benefit',\n",
              " 'suprem court hear appeal texa voter id case new york time',\n",
              " 'islam state driven last stronghold northern iraq',\n",
              " 'senat propos give state option keep afford care act new york time',\n",
              " 'belong extraterrestri lineag',\n",
              " 'zimbabw mugab appear public first time sinc coup']"
            ]
          },
          "metadata": {},
          "execution_count": 19
        }
      ]
    },
    {
      "cell_type": "code",
      "source": [
        "max_length = max(len(sentence.split()) for sentence in corpus)\n",
        "\n",
        "print(\"Maximum sentence length:\", max_length)"
      ],
      "metadata": {
        "colab": {
          "base_uri": "https://localhost:8080/"
        },
        "id": "oPBWlfPKP8qR",
        "outputId": "1fe19f9b-3dae-4c22-9dbb-ca8c1b1bbba5"
      },
      "execution_count": 20,
      "outputs": [
        {
          "output_type": "stream",
          "name": "stdout",
          "text": [
            "Maximum sentence length: 47\n"
          ]
        }
      ]
    },
    {
      "cell_type": "code",
      "source": [
        "from tensorflow.keras.layers import Embedding\n",
        "from tensorflow.keras.preprocessing.sequence import pad_sequences\n",
        "from tensorflow.keras.models import Sequential\n",
        "from tensorflow.keras.preprocessing.text import one_hot\n",
        "from tensorflow.keras.layers import LSTM,Bidirectional\n",
        "from tensorflow.keras.layers import Dense, Dropout"
      ],
      "metadata": {
        "id": "CUUe4yDxQCB_"
      },
      "execution_count": 21,
      "outputs": []
    },
    {
      "cell_type": "code",
      "source": [
        "# Here, we are converting the text (Corpus) into One Hot Representation for the given vocabulary size (i.e. 10000)\n",
        "onehot_repr=[one_hot(words,vocab_size) for words in corpus]"
      ],
      "metadata": {
        "id": "AtqX553nQFIW"
      },
      "execution_count": 22,
      "outputs": []
    },
    {
      "cell_type": "code",
      "source": [
        "# Note: The one hot representation returns the indexes assigned to a particular word\n",
        "onehot_repr[:5]"
      ],
      "metadata": {
        "colab": {
          "base_uri": "https://localhost:8080/"
        },
        "id": "aM4_0Z22QKo4",
        "outputId": "8fa64a7b-eb52-42a1-957b-c552690498d1"
      },
      "execution_count": 23,
      "outputs": [
        {
          "output_type": "execute_result",
          "data": {
            "text/plain": [
              "[[1726, 7625, 1083, 8264, 4870, 7634, 6413, 9832, 7541, 8780, 4788, 363],\n",
              " [5718,\n",
              "  1910,\n",
              "  2002,\n",
              "  283,\n",
              "  8545,\n",
              "  1243,\n",
              "  5490,\n",
              "  7565,\n",
              "  5061,\n",
              "  2270,\n",
              "  7920,\n",
              "  1760,\n",
              "  2180,\n",
              "  363],\n",
              " [7799, 3465, 5623, 7400, 2313, 687, 834, 2583, 6576, 70, 6782, 2140],\n",
              " [2075, 9078, 741, 5463, 7936, 9589, 3919, 7920, 5600, 7222, 4190],\n",
              " [9532, 834, 1524, 2903, 1771, 8578, 8995, 9298, 1524]]"
            ]
          },
          "metadata": {},
          "execution_count": 23
        }
      ]
    },
    {
      "cell_type": "markdown",
      "source": [
        "Embedding"
      ],
      "metadata": {
        "id": "ZsczYkGEQP2C"
      }
    },
    {
      "cell_type": "code",
      "source": [
        "sentence_length = 50\n",
        "\n",
        "# Adding padding to sentences so that all sentences are of same length i.e 50, to avoid varying input sizes\n",
        "embedded_docs = pad_sequences(onehot_repr,padding='pre',maxlen=sentence_length)\n",
        "print(embedded_docs)"
      ],
      "metadata": {
        "colab": {
          "base_uri": "https://localhost:8080/"
        },
        "id": "fOVoVcLrQNo7",
        "outputId": "b7d342ee-8236-4291-b493-4d62fffe10db"
      },
      "execution_count": 24,
      "outputs": [
        {
          "output_type": "stream",
          "name": "stdout",
          "text": [
            "[[   0    0    0 ... 8780 4788  363]\n",
            " [   0    0    0 ... 1760 2180  363]\n",
            " [   0    0    0 ...   70 6782 2140]\n",
            " ...\n",
            " [   0    0    0 ... 5822 9426 3706]\n",
            " [   0    0    0 ... 4957 2983 9206]\n",
            " [   0    0    0 ...   43 6016 2582]]\n"
          ]
        }
      ]
    },
    {
      "cell_type": "code",
      "source": [
        "embedded_docs[0]"
      ],
      "metadata": {
        "colab": {
          "base_uri": "https://localhost:8080/"
        },
        "id": "OHMs0WHZQVIU",
        "outputId": "b2bfb1f8-00d7-4931-f61d-3282044a18dd"
      },
      "execution_count": 25,
      "outputs": [
        {
          "output_type": "execute_result",
          "data": {
            "text/plain": [
              "array([   0,    0,    0,    0,    0,    0,    0,    0,    0,    0,    0,\n",
              "          0,    0,    0,    0,    0,    0,    0,    0,    0,    0,    0,\n",
              "          0,    0,    0,    0,    0,    0,    0,    0,    0,    0,    0,\n",
              "          0,    0,    0,    0,    0, 1726, 7625, 1083, 8264, 4870, 7634,\n",
              "       6413, 9832, 7541, 8780, 4788,  363], dtype=int32)"
            ]
          },
          "metadata": {},
          "execution_count": 25
        }
      ]
    },
    {
      "cell_type": "markdown",
      "source": [
        "**LSTM Model**"
      ],
      "metadata": {
        "id": "Z3nD09-0QaST"
      }
    },
    {
      "cell_type": "code",
      "source": [
        "embedding_vector_features=100 # We will have a vector representation to text with only 100 features\n",
        "\n",
        "model=Sequential()\n",
        "model.add(Embedding(vocab_size, embedding_vector_features, input_length=sentence_length))\n",
        "model.add(LSTM(100))\n",
        "model.add(Dropout(0.2))\n",
        "\n",
        "# LSTM layer (output) is fully connected to the Dense layer\n",
        "model.add(Dense(1,activation='sigmoid'))\n",
        "model.compile(loss='binary_crossentropy',optimizer='adam',metrics=['accuracy'])\n",
        "print(model.summary())"
      ],
      "metadata": {
        "colab": {
          "base_uri": "https://localhost:8080/"
        },
        "id": "E_wvwUOwQYjQ",
        "outputId": "5b947b17-2205-4ced-89cf-6d8c602c58ae"
      },
      "execution_count": 26,
      "outputs": [
        {
          "output_type": "stream",
          "name": "stdout",
          "text": [
            "Model: \"sequential\"\n",
            "_________________________________________________________________\n",
            " Layer (type)                Output Shape              Param #   \n",
            "=================================================================\n",
            " embedding (Embedding)       (None, 50, 100)           1000000   \n",
            "                                                                 \n",
            " lstm (LSTM)                 (None, 100)               80400     \n",
            "                                                                 \n",
            " dropout (Dropout)           (None, 100)               0         \n",
            "                                                                 \n",
            " dense (Dense)               (None, 1)                 101       \n",
            "                                                                 \n",
            "=================================================================\n",
            "Total params: 1080501 (4.12 MB)\n",
            "Trainable params: 1080501 (4.12 MB)\n",
            "Non-trainable params: 0 (0.00 Byte)\n",
            "_________________________________________________________________\n",
            "None\n"
          ]
        }
      ]
    },
    {
      "cell_type": "code",
      "source": [
        "X_final = np.array(embedded_docs)\n",
        "y_final = np.array(y)\n",
        "X_final.shape,y_final.shape"
      ],
      "metadata": {
        "colab": {
          "base_uri": "https://localhost:8080/"
        },
        "id": "feEgpOyJQjq7",
        "outputId": "3478dd5e-fc1e-4de3-92ef-dbce5c79ae6b"
      },
      "execution_count": 27,
      "outputs": [
        {
          "output_type": "execute_result",
          "data": {
            "text/plain": [
              "((71537, 50), (71537,))"
            ]
          },
          "metadata": {},
          "execution_count": 27
        }
      ]
    },
    {
      "cell_type": "code",
      "source": [
        "from sklearn.model_selection import train_test_split\n",
        "X_train, X_test, y_train, y_test = train_test_split(X_final, y_final, test_size=0.33, random_state=42)"
      ],
      "metadata": {
        "id": "E629hXDCQmnj"
      },
      "execution_count": 28,
      "outputs": []
    },
    {
      "cell_type": "markdown",
      "source": [
        "Model Training"
      ],
      "metadata": {
        "id": "Zofc1663QvxH"
      }
    },
    {
      "cell_type": "code",
      "source": [
        "# Training\n",
        "model.fit(X_train,y_train,validation_data=(X_test,y_test),epochs=10,batch_size=64)"
      ],
      "metadata": {
        "colab": {
          "base_uri": "https://localhost:8080/"
        },
        "id": "stFUYNo0Qtjt",
        "outputId": "15cb15f7-8384-4b11-a63e-e190e4d52272"
      },
      "execution_count": 29,
      "outputs": [
        {
          "output_type": "stream",
          "name": "stdout",
          "text": [
            "Epoch 1/10\n",
            "749/749 [==============================] - 90s 116ms/step - loss: 0.2938 - accuracy: 0.8721 - val_loss: 0.2393 - val_accuracy: 0.8998\n",
            "Epoch 2/10\n",
            "749/749 [==============================] - 85s 114ms/step - loss: 0.1933 - accuracy: 0.9227 - val_loss: 0.2366 - val_accuracy: 0.9020\n",
            "Epoch 3/10\n",
            "749/749 [==============================] - 100s 133ms/step - loss: 0.1518 - accuracy: 0.9391 - val_loss: 0.2468 - val_accuracy: 0.9021\n",
            "Epoch 4/10\n",
            "749/749 [==============================] - 95s 127ms/step - loss: 0.1187 - accuracy: 0.9535 - val_loss: 0.2928 - val_accuracy: 0.9004\n",
            "Epoch 5/10\n",
            "749/749 [==============================] - 96s 128ms/step - loss: 0.0928 - accuracy: 0.9631 - val_loss: 0.3399 - val_accuracy: 0.8935\n",
            "Epoch 6/10\n",
            "749/749 [==============================] - 90s 120ms/step - loss: 0.0731 - accuracy: 0.9715 - val_loss: 0.3565 - val_accuracy: 0.8980\n",
            "Epoch 7/10\n",
            "749/749 [==============================] - 97s 129ms/step - loss: 0.0572 - accuracy: 0.9774 - val_loss: 0.4469 - val_accuracy: 0.8922\n",
            "Epoch 8/10\n",
            "749/749 [==============================] - 90s 120ms/step - loss: 0.0435 - accuracy: 0.9839 - val_loss: 0.4897 - val_accuracy: 0.8919\n",
            "Epoch 9/10\n",
            "749/749 [==============================] - 101s 135ms/step - loss: 0.0364 - accuracy: 0.9866 - val_loss: 0.5988 - val_accuracy: 0.8918\n",
            "Epoch 10/10\n",
            "749/749 [==============================] - 89s 119ms/step - loss: 0.0273 - accuracy: 0.9901 - val_loss: 0.6406 - val_accuracy: 0.8936\n"
          ]
        },
        {
          "output_type": "execute_result",
          "data": {
            "text/plain": [
              "<keras.src.callbacks.History at 0x7a5f7a35bf10>"
            ]
          },
          "metadata": {},
          "execution_count": 29
        }
      ]
    },
    {
      "cell_type": "markdown",
      "source": [
        "Performance Matrics"
      ],
      "metadata": {
        "id": "mp80g_B1UsAS"
      }
    },
    {
      "cell_type": "code",
      "source": [
        "from sklearn.metrics import confusion_matrix,accuracy_score\n",
        "\n",
        "y_log = model.predict(X_test)\n",
        "y_pred = np.where(y_log>0.5,1,0)\n",
        "\n",
        "acc = accuracy_score(y_test, y_pred)\n",
        "\n",
        "confusion_mat = confusion_matrix(y_test, y_pred)\n",
        "print(confusion_mat)"
      ],
      "metadata": {
        "colab": {
          "base_uri": "https://localhost:8080/"
        },
        "id": "06zr8VJtUuZr",
        "outputId": "c1993374-2abd-4a98-ff8c-ecdbb09816c0"
      },
      "execution_count": 30,
      "outputs": [
        {
          "output_type": "stream",
          "name": "stdout",
          "text": [
            "738/738 [==============================] - 17s 20ms/step\n",
            "[[10262  1431]\n",
            " [ 1080 10835]]\n"
          ]
        }
      ]
    },
    {
      "cell_type": "code",
      "source": [
        "# Accuracy\n",
        "print(acc)"
      ],
      "metadata": {
        "colab": {
          "base_uri": "https://localhost:8080/"
        },
        "id": "cJytrk84U2vs",
        "outputId": "30165f0e-37db-40dd-963a-e78aa79b4b39"
      },
      "execution_count": 31,
      "outputs": [
        {
          "output_type": "stream",
          "name": "stdout",
          "text": [
            "0.893637749915283\n"
          ]
        }
      ]
    },
    {
      "cell_type": "markdown",
      "source": [
        "**Stacked LSTM**"
      ],
      "metadata": {
        "id": "fqmWfg6SU69-"
      }
    },
    {
      "cell_type": "code",
      "source": [
        "embedding_vector_features=100\n",
        "model1=Sequential()\n",
        "model1.add(Embedding(vocab_size, embedding_vector_features, input_length=sentence_length))\n",
        "model1.add(LSTM(100,return_sequences=True))\n",
        "model1.add(Dropout(0.2))\n",
        "\n",
        "model1.add(LSTM(50,return_sequences=True))\n",
        "model1.add(Dropout(0.1))\n",
        "\n",
        "model1.add(LSTM(20))\n",
        "model1.add(Dropout(0.1))\n",
        "\n",
        "model1.add(Dense(1,activation='sigmoid'))\n",
        "model1.compile(loss='binary_crossentropy',optimizer='adam',metrics=['accuracy'])\n",
        "print(model1.summary())"
      ],
      "metadata": {
        "colab": {
          "base_uri": "https://localhost:8080/"
        },
        "id": "uJUsMi7oU5Yv",
        "outputId": "8ec388be-893d-48db-efc7-c8829bd1eeb1"
      },
      "execution_count": 32,
      "outputs": [
        {
          "output_type": "stream",
          "name": "stdout",
          "text": [
            "Model: \"sequential_1\"\n",
            "_________________________________________________________________\n",
            " Layer (type)                Output Shape              Param #   \n",
            "=================================================================\n",
            " embedding_1 (Embedding)     (None, 50, 100)           1000000   \n",
            "                                                                 \n",
            " lstm_1 (LSTM)               (None, 50, 100)           80400     \n",
            "                                                                 \n",
            " dropout_1 (Dropout)         (None, 50, 100)           0         \n",
            "                                                                 \n",
            " lstm_2 (LSTM)               (None, 50, 50)            30200     \n",
            "                                                                 \n",
            " dropout_2 (Dropout)         (None, 50, 50)            0         \n",
            "                                                                 \n",
            " lstm_3 (LSTM)               (None, 20)                5680      \n",
            "                                                                 \n",
            " dropout_3 (Dropout)         (None, 20)                0         \n",
            "                                                                 \n",
            " dense_1 (Dense)             (None, 1)                 21        \n",
            "                                                                 \n",
            "=================================================================\n",
            "Total params: 1116301 (4.26 MB)\n",
            "Trainable params: 1116301 (4.26 MB)\n",
            "Non-trainable params: 0 (0.00 Byte)\n",
            "_________________________________________________________________\n",
            "None\n"
          ]
        }
      ]
    },
    {
      "cell_type": "code",
      "source": [
        "# Training\n",
        "model1.fit(X_train,y_train,validation_data=(X_test,y_test),epochs=10,batch_size=64)"
      ],
      "metadata": {
        "colab": {
          "base_uri": "https://localhost:8080/"
        },
        "id": "BEJ58PKgU_78",
        "outputId": "ae97727e-a8c3-4875-ce1d-f422d19b1e07"
      },
      "execution_count": 33,
      "outputs": [
        {
          "output_type": "stream",
          "name": "stdout",
          "text": [
            "Epoch 1/10\n",
            "749/749 [==============================] - 152s 195ms/step - loss: 0.3142 - accuracy: 0.8603 - val_loss: 0.2398 - val_accuracy: 0.9011\n",
            "Epoch 2/10\n",
            "749/749 [==============================] - 147s 196ms/step - loss: 0.1967 - accuracy: 0.9222 - val_loss: 0.2374 - val_accuracy: 0.9017\n",
            "Epoch 3/10\n",
            "749/749 [==============================] - 145s 194ms/step - loss: 0.1540 - accuracy: 0.9409 - val_loss: 0.2592 - val_accuracy: 0.8996\n",
            "Epoch 4/10\n",
            "749/749 [==============================] - 142s 189ms/step - loss: 0.1201 - accuracy: 0.9539 - val_loss: 0.2702 - val_accuracy: 0.8994\n",
            "Epoch 5/10\n",
            "749/749 [==============================] - 168s 224ms/step - loss: 0.0939 - accuracy: 0.9653 - val_loss: 0.3220 - val_accuracy: 0.8959\n",
            "Epoch 6/10\n",
            "749/749 [==============================] - 145s 194ms/step - loss: 0.0748 - accuracy: 0.9723 - val_loss: 0.3536 - val_accuracy: 0.8934\n",
            "Epoch 7/10\n",
            "749/749 [==============================] - 147s 196ms/step - loss: 0.0567 - accuracy: 0.9791 - val_loss: 0.4236 - val_accuracy: 0.8948\n",
            "Epoch 8/10\n",
            "749/749 [==============================] - 148s 197ms/step - loss: 0.0453 - accuracy: 0.9838 - val_loss: 0.4146 - val_accuracy: 0.8925\n",
            "Epoch 9/10\n",
            "749/749 [==============================] - 141s 188ms/step - loss: 0.0361 - accuracy: 0.9869 - val_loss: 0.5047 - val_accuracy: 0.8950\n",
            "Epoch 10/10\n",
            "749/749 [==============================] - 146s 195ms/step - loss: 0.0273 - accuracy: 0.9907 - val_loss: 0.5171 - val_accuracy: 0.8878\n"
          ]
        },
        {
          "output_type": "execute_result",
          "data": {
            "text/plain": [
              "<keras.src.callbacks.History at 0x7a5f6abe74f0>"
            ]
          },
          "metadata": {},
          "execution_count": 33
        }
      ]
    },
    {
      "cell_type": "code",
      "source": [
        "y_log_1 = model1.predict(X_test)\n",
        "y_pred_1 = np.where(y_log_1>0.5,1,0)\n",
        "\n",
        "acc_1 = accuracy_score(y_test, y_pred_1)\n",
        "print(acc_1)\n",
        "\n",
        "print()\n",
        "\n",
        "confusion_mat_1 = confusion_matrix(y_test, y_pred_1)\n",
        "print(confusion_mat_1)"
      ],
      "metadata": {
        "colab": {
          "base_uri": "https://localhost:8080/"
        },
        "id": "UI6H7jOObA7H",
        "outputId": "e5ae017e-652e-4d56-9929-9f80be3adae7"
      },
      "execution_count": 34,
      "outputs": [
        {
          "output_type": "stream",
          "name": "stdout",
          "text": [
            "738/738 [==============================] - 25s 29ms/step\n",
            "0.8878346323280244\n",
            "\n",
            "[[10014  1679]\n",
            " [  969 10946]]\n"
          ]
        }
      ]
    },
    {
      "cell_type": "code",
      "source": [
        "print(acc_1)"
      ],
      "metadata": {
        "colab": {
          "base_uri": "https://localhost:8080/"
        },
        "id": "Iyj-9mKWbUE2",
        "outputId": "8e70b408-ca5c-4897-c050-26f5312eecf0"
      },
      "execution_count": 36,
      "outputs": [
        {
          "output_type": "stream",
          "name": "stdout",
          "text": [
            "0.8878346323280244\n"
          ]
        }
      ]
    },
    {
      "cell_type": "markdown",
      "source": [
        "**Bidirectional LSTM**"
      ],
      "metadata": {
        "id": "K9pumVS2be-d"
      }
    },
    {
      "cell_type": "code",
      "source": [
        "embedding_vector_features=150\n",
        "model2 = Sequential()\n",
        "model2.add(Embedding(vocab_size, embedding_vector_features, input_length=sentence_length))\n",
        "model2.add(Bidirectional(LSTM(200)))\n",
        "model2.add(Dropout(0.2))\n",
        "model2.add(Dense(1,activation='sigmoid'))\n",
        "model2.compile(loss='binary_crossentropy',optimizer='adam',metrics=['accuracy'])\n",
        "print(model2.summary())"
      ],
      "metadata": {
        "colab": {
          "base_uri": "https://localhost:8080/"
        },
        "id": "_U6dVfdlbisd",
        "outputId": "bcb59143-ad24-4a0c-e545-efc371609abb"
      },
      "execution_count": 37,
      "outputs": [
        {
          "output_type": "stream",
          "name": "stdout",
          "text": [
            "Model: \"sequential_2\"\n",
            "_________________________________________________________________\n",
            " Layer (type)                Output Shape              Param #   \n",
            "=================================================================\n",
            " embedding_2 (Embedding)     (None, 50, 150)           1500000   \n",
            "                                                                 \n",
            " bidirectional (Bidirection  (None, 400)               561600    \n",
            " al)                                                             \n",
            "                                                                 \n",
            " dropout_4 (Dropout)         (None, 400)               0         \n",
            "                                                                 \n",
            " dense_2 (Dense)             (None, 1)                 401       \n",
            "                                                                 \n",
            "=================================================================\n",
            "Total params: 2062001 (7.87 MB)\n",
            "Trainable params: 2062001 (7.87 MB)\n",
            "Non-trainable params: 0 (0.00 Byte)\n",
            "_________________________________________________________________\n",
            "None\n"
          ]
        }
      ]
    },
    {
      "cell_type": "code",
      "source": [
        "model2.fit(X_train,y_train,validation_data=(X_test,y_test),epochs=10, batch_size=120)"
      ],
      "metadata": {
        "colab": {
          "base_uri": "https://localhost:8080/"
        },
        "id": "XBNA5a9DbmpQ",
        "outputId": "56354d29-9657-4ee9-8e58-2e84f32900cc"
      },
      "execution_count": 38,
      "outputs": [
        {
          "output_type": "stream",
          "name": "stdout",
          "text": [
            "Epoch 1/10\n",
            "400/400 [==============================] - 276s 676ms/step - loss: 0.3016 - accuracy: 0.8669 - val_loss: 0.2395 - val_accuracy: 0.9011\n",
            "Epoch 2/10\n",
            "400/400 [==============================] - 268s 669ms/step - loss: 0.1916 - accuracy: 0.9229 - val_loss: 0.2386 - val_accuracy: 0.9014\n",
            "Epoch 3/10\n",
            "400/400 [==============================] - 265s 663ms/step - loss: 0.1519 - accuracy: 0.9402 - val_loss: 0.2602 - val_accuracy: 0.9033\n",
            "Epoch 4/10\n",
            "400/400 [==============================] - 269s 673ms/step - loss: 0.1218 - accuracy: 0.9529 - val_loss: 0.2832 - val_accuracy: 0.8982\n",
            "Epoch 5/10\n",
            "400/400 [==============================] - 260s 650ms/step - loss: 0.0968 - accuracy: 0.9623 - val_loss: 0.3282 - val_accuracy: 0.8961\n",
            "Epoch 6/10\n",
            "400/400 [==============================] - 272s 681ms/step - loss: 0.0776 - accuracy: 0.9697 - val_loss: 0.4113 - val_accuracy: 0.8963\n",
            "Epoch 7/10\n",
            "400/400 [==============================] - 273s 681ms/step - loss: 0.0621 - accuracy: 0.9768 - val_loss: 0.4177 - val_accuracy: 0.8946\n",
            "Epoch 8/10\n",
            "400/400 [==============================] - 270s 675ms/step - loss: 0.0518 - accuracy: 0.9803 - val_loss: 0.4892 - val_accuracy: 0.8964\n",
            "Epoch 9/10\n",
            "400/400 [==============================] - 269s 672ms/step - loss: 0.0417 - accuracy: 0.9843 - val_loss: 0.5397 - val_accuracy: 0.8946\n",
            "Epoch 10/10\n",
            "400/400 [==============================] - 268s 671ms/step - loss: 0.0320 - accuracy: 0.9881 - val_loss: 0.5872 - val_accuracy: 0.8888\n"
          ]
        },
        {
          "output_type": "execute_result",
          "data": {
            "text/plain": [
              "<keras.src.callbacks.History at 0x7a5f69c70910>"
            ]
          },
          "metadata": {},
          "execution_count": 38
        }
      ]
    },
    {
      "cell_type": "code",
      "source": [
        "y_log_2 = model2.predict(X_test)\n",
        "y_pred_2 = np.where(y_log_2>0.5,1,0)\n",
        "\n",
        "acc_2 = accuracy_score(y_test, y_pred_2)\n",
        "print(acc_2)\n",
        "\n",
        "print()\n",
        "\n",
        "confusion_mat_2 = confusion_matrix(y_test, y_pred_2)\n",
        "print(confusion_mat_2)"
      ],
      "metadata": {
        "colab": {
          "base_uri": "https://localhost:8080/"
        },
        "id": "kJePl4HDmXmP",
        "outputId": "451b8654-2159-40b2-a19a-2e73b02b7355"
      },
      "execution_count": 39,
      "outputs": [
        {
          "output_type": "stream",
          "name": "stdout",
          "text": [
            "738/738 [==============================] - 65s 86ms/step\n",
            "0.8888088783463233\n",
            "\n",
            "[[10038  1655]\n",
            " [  970 10945]]\n"
          ]
        }
      ]
    }
  ]
}